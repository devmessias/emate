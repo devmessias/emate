{
 "cells": [
  {
   "cell_type": "code",
   "execution_count": 5,
   "metadata": {},
   "outputs": [
    {
     "name": "stdout",
     "output_type": "stream",
     "text": [
      "Requirement already satisfied: matplotlib in /home/devmessias/venvs/emate/lib/python3.7/site-packages (3.2.2)\r\n",
      "Requirement already satisfied: pyparsing!=2.0.4,!=2.1.2,!=2.1.6,>=2.0.1 in /home/devmessias/venvs/emate/lib/python3.7/site-packages (from matplotlib) (2.4.7)\r\n",
      "Requirement already satisfied: cycler>=0.10 in /home/devmessias/venvs/emate/lib/python3.7/site-packages (from matplotlib) (0.10.0)\r\n",
      "Requirement already satisfied: python-dateutil>=2.1 in /home/devmessias/venvs/emate/lib/python3.7/site-packages (from matplotlib) (2.8.1)\r\n",
      "Requirement already satisfied: numpy>=1.11 in /home/devmessias/venvs/emate/lib/python3.7/site-packages (from matplotlib) (1.19.0)\r\n",
      "Requirement already satisfied: kiwisolver>=1.0.1 in /home/devmessias/venvs/emate/lib/python3.7/site-packages (from matplotlib) (1.2.0)\r\n",
      "Requirement already satisfied: six in /home/devmessias/venvs/emate/lib/python3.7/site-packages (from cycler>=0.10->matplotlib) (1.15.0)\r\n"
     ]
    }
   ],
   "source": [
    "!pip install matplotlib\n",
    "!pip install python-igraph"
   ]
  },
  {
   "cell_type": "code",
   "execution_count": 1,
   "metadata": {},
   "outputs": [],
   "source": [
    "import igraph as ig\n",
    "import numpy as np\n",
    "\n",
    "N = 1000\n",
    "G = ig.Graph.Erdos_Renyi(N, 3/N)\n",
    "\n",
    "W = np.array(G.get_adjacency().data, dtype=np.float64)\n",
    "vals = np.linalg.eigvalsh(W).real"
   ]
  },
  {
   "cell_type": "code",
   "execution_count": 2,
   "metadata": {},
   "outputs": [
    {
     "name": "stdout",
     "output_type": "stream",
     "text": [
      "Warning: Cupy package not found\n"
     ]
    },
    {
     "data": {
      "text/plain": [
       "'1.0.4'"
      ]
     },
     "execution_count": 2,
     "metadata": {},
     "output_type": "execute_result"
    }
   ],
   "source": [
    "import emate\n",
    "emate.__version__"
   ]
  },
  {
   "cell_type": "code",
   "execution_count": 3,
   "metadata": {},
   "outputs": [],
   "source": [
    "import numpy as np\n",
    "from scipy.sparse import coo_matrix\n",
    "\n",
    "\n",
    "def ig2sparse(G, transpose=False, attr=None, precision=32):\n",
    "    \"\"\"Given an igraph instance returns the sparse adjacency matrix\n",
    "    in COO format.\n",
    "    Parameters\n",
    "    ----------\n",
    "        G: igraph instance\n",
    "        transpose : bool \n",
    "            If the adjacency matrix should be transposed or not\n",
    "        attr : str \n",
    "            The name of weight attribute\n",
    "        precision : int\n",
    "             The precision used to store the weight attributes\n",
    "    Returns\n",
    "    --------\n",
    "        L : COO Sparse matrix\n",
    "    \"\"\"\n",
    "\n",
    "    if attr:\n",
    "        source, target, data = zip(*[\n",
    "            (e.source, e.target, e[attr])\n",
    "            for e in G.es if not np.isnan(e[attr])\n",
    "        ])\n",
    "    else:\n",
    "        source, target = zip(*[\n",
    "            (e.source, e.target)\n",
    "            for e in G.es\n",
    "        ])\n",
    "        data = np.ones(len(source)).astype('int').tolist()\n",
    "\n",
    "    if not G.is_directed():\n",
    "        source, target = source + target, target + source\n",
    "        data = data + data\n",
    "\n",
    "    if precision == 64:\n",
    "        np_type = np.float64\n",
    "    elif precision == 32:\n",
    "        np_type = np.float32\n",
    "\n",
    "    data = np.array(data, dtype=np_type)\n",
    "    if transpose:\n",
    "        L = coo_matrix(\n",
    "            (data, (target, source)),\n",
    "            shape=[G.vcount(), G.vcount()]\n",
    "        )\n",
    "    else:\n",
    "        L = coo_matrix(\n",
    "            (data, (source, target)),\n",
    "            shape=[G.vcount(), G.vcount()]\n",
    "        )\n",
    "\n",
    "    return L\n"
   ]
  },
  {
   "cell_type": "code",
   "execution_count": 4,
   "metadata": {},
   "outputs": [],
   "source": [
    "from emate.hermitian import tfkpm\n",
    "\n",
    "W = ig2sparse(G)\n",
    "\n",
    "num_moments = 300\n",
    "num_vecs = 200\n",
    "extra_points = 10\n",
    "ek, rho = tfkpm(W, num_moments, num_vecs, extra_points, device=\"/cpu:0\")"
   ]
  },
  {
   "cell_type": "code",
   "execution_count": 5,
   "metadata": {},
   "outputs": [
    {
     "data": {
      "text/plain": [
       "<matplotlib.collections.PathCollection at 0x7fb0ec17ba90>"
      ]
     },
     "execution_count": 5,
     "metadata": {},
     "output_type": "execute_result"
    },
    {
     "data": {
      "image/png": "[encoded data removed]",
      "text/plain": [
       "<Figure size 432x288 with 1 Axes>"
      ]
     },
     "metadata": {
      "needs_background": "light"
     },
     "output_type": "display_data"
    }
   ],
   "source": [
    "import matplotlib.pyplot as plt\n",
    "plt.hist(vals, density=True, bins=100, alpha=.9, color=\"steelblue\")\n",
    "plt.scatter(ek, rho, c=\"tomato\", zorder=999, alpha=0.9, marker=\"d\")"
   ]
  },
  {
   "cell_type": "code",
   "execution_count": null,
   "metadata": {},
   "outputs": [],
   "source": []
  }
 ],
 "metadata": {
  "kernelspec": {
   "display_name": "Python 3",
   "language": "python",
   "name": "python3"
  },
  "language_info": {
   "codemirror_mode": {
    "name": "ipython",
    "version": 3
   },
   "file_extension": ".py",
   "mimetype": "text/x-python",
   "name": "python",
   "nbconvert_exporter": "python",
   "pygments_lexer": "ipython3",
   "version": "3.7.3"
  }
 },
 "nbformat": 4,
 "nbformat_minor": 4
}
